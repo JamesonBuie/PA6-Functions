{
 "cells": [
  {
   "cell_type": "markdown",
   "id": "98ae0ce2",
   "metadata": {},
   "source": [
    "## Programming Assignment 6\n",
    "### Jameson Buie\n",
    "### Version 1\n",
    "### CS-150-01 Spring"
   ]
  },
  {
   "cell_type": "markdown",
   "id": "9120817b",
   "metadata": {},
   "source": [
    "# a)"
   ]
  },
  {
   "cell_type": "code",
   "execution_count": 8,
   "id": "692b3997",
   "metadata": {},
   "outputs": [
    {
     "name": "stdout",
     "output_type": "stream",
     "text": [
      "Enter a value for the first side: 5\n",
      "Enter a value for the second side: 6\n",
      "Enter a value for the third side: 7\n",
      "The perimeter of the triangle is 18\n",
      "The area of the triangle is 14.696938456699069\n"
     ]
    }
   ],
   "source": [
    "import math\n",
    "side1=int(input(\"Enter a value for the first side: \"))\n",
    "side2=int(input(\"Enter a value for the second side: \"))\n",
    "side3=int(input(\"Enter a value for the third side: \"))\n",
    "def CalcPerimeter(a,b,c):\n",
    "    return a+b+c\n",
    "def CalcArea(a,b,c):\n",
    "    s=(a+b+c)/2\n",
    "    return math.sqrt(s*(s-a)*(s-b)*(s-c))\n",
    "\n",
    "print(f\"The perimeter of the triangle is {CalcPerimeter(side1,side2,side3)}\")\n",
    "print(f\"The area of the triangle is {CalcArea(side1,side2,side3)}\")"
   ]
  },
  {
   "cell_type": "markdown",
   "id": "2fb6c362",
   "metadata": {},
   "source": [
    "# b)"
   ]
  },
  {
   "cell_type": "code",
   "execution_count": 15,
   "id": "4bde44dc",
   "metadata": {},
   "outputs": [
    {
     "name": "stdout",
     "output_type": "stream",
     "text": [
      "Guess a number between 1 and 100: 5\n",
      "You guessed too low. Try again.\n",
      "Guess a number between 1 and 100: 7\n",
      "You guessed too low. Try again.\n",
      "Guess a number between 1 and 100: 5\n",
      "You guessed too low. Try again.\n",
      "Guess a number between 1 and 100: 45\n",
      "You guessed too high. Try again.\n",
      "Guess a number between 1 and 100: 35\n",
      "You guessed too high. Try again.\n",
      "Guess a number between 1 and 100: 25\n",
      "You guessed too high. Try again.\n",
      "Guess a number between 1 and 100: 2\n",
      "You guessed too low. Try again.\n",
      "Guess a number between 1 and 100: 20\n",
      "You guessed too high. Try again.\n",
      "Guess a number between 1 and 100: 17\n",
      "You guessed too high. Try again.\n",
      "Guess a number between 1 and 100: 14\n",
      "You guessed too high. Try again.\n",
      "Guess a number between 1 and 100: 10\n",
      "You guessed too high. Try again.\n",
      "Guess a number between 1 and 100: 8\n",
      "You guessed correctly!\n"
     ]
    }
   ],
   "source": [
    "import random\n",
    "\n",
    "def EvaluateGuess():\n",
    "    number=random.randint(1,10)\n",
    "    enteredNumber=None\n",
    "    \n",
    "    while enteredNumber!=number:\n",
    "        enteredNumber=int(input(\"Guess a number between 1 and 100: \"))\n",
    "        if enteredNumber==number:\n",
    "            print(\"You guessed correctly!\")\n",
    "        elif enteredNumber>number:\n",
    "            print(\"You guessed too high. Try again.\")\n",
    "        else:\n",
    "            print(\"You guessed too low. Try again.\")\n",
    "    \n",
    "EvaluateGuess()"
   ]
  },
  {
   "cell_type": "markdown",
   "id": "200805f8",
   "metadata": {},
   "source": [
    "# c)"
   ]
  },
  {
   "cell_type": "code",
   "execution_count": 29,
   "id": "93e6ebfe",
   "metadata": {},
   "outputs": [
    {
     "name": "stdout",
     "output_type": "stream",
     "text": [
      "The mean temperature for the past 3 days is  45.0 degrees F.\n",
      "The mean temperature for the past 5 days is  67.4 degrees F.\n",
      "The mean temperature for the past 9 days is  52.8 degrees F.\n"
     ]
    }
   ],
   "source": [
    "def meanTemp(*temps):\n",
    "    mean= sum(temps)/len(temps)\n",
    "    print(f\"The mean temperature for the past {len(temps)} days is {mean: .1f} degrees F.\")\n",
    "meanTemp(34,45,56) \n",
    "meanTemp(56,46,78,67,90)\n",
    "meanTemp(34,45,67,54,53,46,67,75,34.23)\n",
    "\n",
    "    "
   ]
  },
  {
   "cell_type": "code",
   "execution_count": null,
   "id": "c918b3d8",
   "metadata": {},
   "outputs": [],
   "source": []
  }
 ],
 "metadata": {
  "kernelspec": {
   "display_name": "Python 3 (ipykernel)",
   "language": "python",
   "name": "python3"
  },
  "language_info": {
   "codemirror_mode": {
    "name": "ipython",
    "version": 3
   },
   "file_extension": ".py",
   "mimetype": "text/x-python",
   "name": "python",
   "nbconvert_exporter": "python",
   "pygments_lexer": "ipython3",
   "version": "3.9.13"
  }
 },
 "nbformat": 4,
 "nbformat_minor": 5
}
